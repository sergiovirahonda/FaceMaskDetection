{
 "cells": [
  {
   "cell_type": "code",
   "execution_count": 3,
   "metadata": {},
   "outputs": [],
   "source": [
    "import os"
   ]
  },
  {
   "cell_type": "code",
   "execution_count": 8,
   "metadata": {},
   "outputs": [
    {
     "name": "stdout",
     "output_type": "stream",
     "text": [
      "Images in directory:  149\n"
     ]
    }
   ],
   "source": [
    "#How many images do we have?\n",
    "counter = 0\n",
    "for dirname, _, filenames in os.walk('/home/sergio/PythonProjects/Face Mask Detection/Dataset'):\n",
    "    for filename in filenames:\n",
    "        if filename.endswith('.jpg'):\n",
    "            counter += 1\n",
    "print('Images in directory: ',counter)"
   ]
  },
  {
   "cell_type": "code",
   "execution_count": 7,
   "metadata": {},
   "outputs": [
    {
     "name": "stdout",
     "output_type": "stream",
     "text": [
      " 000_1OC3DT_jpg.rf.0570a1f4ab79e324496c311456b6b1f8.jpg\r\n",
      " 000_1ov3n5_0_jpeg.rf.a23f1c89491779996f4519858277a4e0.jpg\r\n",
      " 0002526673_jpg.rf.2c547115c01c1b5a10c6d467551f0cae.jpg\r\n",
      " 0009S6815V3PEU1N-C123-F4_jpg.rf.6b0befd018e6308b6029a17a2ee08c48.jpg\r\n",
      " 000b7b75-1600_jpg.rf.5d7117e8571505dbfe49e2f737089ea0.jpg\r\n",
      " 001_1024_jpeg.rf.f915f4689737658b59732df33fdbee22.jpg\r\n",
      " 002_1024_jpeg.rf.b8c41940cb8dd4fa61e92892345859ad.jpg\r\n",
      " 003_1024_jpeg.rf.bc025d99896124ddce6fa706b4a5c7b3.jpg\r\n",
      " 004_1024_jpeg.rf.763d99dadfb9fe5f3f72ff3cc34f88b6.jpg\r\n",
      " 0_10725_jpg.rf.99ff78c82dadd6d49408164489cb6582.jpg\r\n",
      " 0109-00176-096b1_jpg.rf.c55de2d88f34d1217acdc245fd8292fa.jpg\r\n",
      " 012106_jpg_1140x855_jpg.rf.c6524deb426da2c246a03ac0e610f0cb.jpg\r\n",
      " 012420_coronoa_masks_web_jpg.rf.dcc655a29611260a439d59c13b0cad1a.jpg\r\n",
      " 0200b38c89b16c37c5de8e247bb00c2f_jpg.rf.6a5b142fd82320d571402836bce2cf0a.jpg\r\n",
      " 0209-00176-076b1_jpg.rf.e9d992f7258f2c5ae8c29f76a727efda.jpg\r\n",
      " 022814asiatodaymasks_960x540_jpg.rf.20ad64bc5ec9eed694d9f559b9aba31d.jpg\r\n",
      " 025418_springwest005_jpg.rf.9d634581749567c27d459b574b431f74.jpg\r\n",
      " 0450908675_50159485_mutation-virus-chine-inquietude_jpg.rf.466d55e174c1bc43889c49b06aad0d75.jpg\r\n",
      " 0602623232127-web-tete_jpg.rf.70c23b5e96669fb4f31a7cbd6d52a670.jpg\r\n",
      " 08_11_2019-airpollution_234_19737819_192539446_jpg.rf.113e45f57dba09fde40d8490ae957fe6.jpg\r\n",
      " 08165739_jpg.rf.68cc16cde41ba8799e983506931416b8.jpg\r\n",
      " 0_8w7mkX-PHcfMM5s6_jpeg.rf.74932d662e4077ea5e4374a0038e5757.jpg\r\n",
      " 0ad90195-cd77-489e-bf85-08c83b80d3e0_jpg.rf.20ed8f759c47a565b60684cfd4524a21.jpg\r\n",
      " 0_Concern-In-China-As-Mystery-Virus-Spreads_jpg.rf.3135dfc5feab288d76a4ccfd22dfc5bf.jpg\r\n",
      " 1000x-1_jpg.rf.743291b4977f67bdd59a05ee98c9e28b.jpg\r\n",
      " 101d6660a8974050b613dd2e6bd59390_jpg.rf.d2571bc2121193beb8e9f49af8fc7170.jpg\r\n",
      " 1024x576_939430607723_jpg.rf.7048dfb767a151c5565c1470cec10027.jpg\r\n",
      " 1024x737_09186876046_jpg.rf.e999eaf25d69174a9c12b9777042b267.jpg\r\n",
      " 1029731146_jpg.rf.7c43f38028cd269068c0ea434b88a5c7.jpg\r\n",
      " 1030611863_jpg.rf.aa3b539ebd06efc89eab0b823f128b96.jpg\r\n",
      " 1042977068_jpg.rf.84c3af9736d1fe2db012d0e91aee5b23.jpg\r\n",
      " 10fea_8011463765e2aa28b386cf_jpg.rf.0b90546b568e369f33ca67b3208b1655.jpg\r\n",
      " 1125506397_15801322206131n_jpg.rf.da8fa082b994849888e09bb86b146aa0.jpg\r\n",
      " 1125506397_15801322206581n_jpg.rf.e5618d107f187fa409de96fcc56148ff.jpg\r\n",
      " 1125506397_15801322207071n_jpg.rf.4af8170b619c5e1992c9ffd14c60d031.jpg\r\n",
      " 1125506397_15801322207531n_jpg.rf.2c690122cfecf93fe31fcd327986e0e2.jpg\r\n",
      " 1133x768_20200130000023_jpg.rf.aa3997898dca01ea870b9cba18d5e3cf.jpg\r\n",
      " 1_13_jpg.rf.53ab50cc136587dec9d42678014977f1.jpg\r\n",
      " 1140-travelers-at-hong-kong-airport_jpg.rf.df931ff698a201d616311ed661b6a185.jpg\r\n",
      " 1152x768_246964803156_jpg.rf.3ea9205f57b870e2ca83cc18349402f4.jpg\r\n",
      " 1155x768_20200129000089_jpg.rf.e89d69a1fa6fc7cf08e8c30317f7274d.jpg\r\n",
      " 11893820-3x2-xlarge_jpg.rf.ff6ffd94fa9e0d9dcfcc97380f0aede5.jpg\r\n",
      " 1196686205_jpg_14_jpg.rf.ff88135a0f165ca412244980acfbe591.jpg\r\n",
      " 1197315184_jpg_0_jpg.rf.39eb63061e0efb89a8f12a31d676daea.jpg\r\n",
      " 1197620896_jpg.rf.161417d4b3eafad7376c0ed2f2d66f51.jpg\r\n",
      " 1-200102094256105_png.rf.22dcc10b1378b9ea7f05c83d04c052aa.jpg\r\n",
      " 1224331650_g_400-w_g_jpg.rf.b816f49e2d84044fc997a8cbd55c347d.jpg\r\n",
      " 1249493_jpg.rf.64cad435d15dc175168c3595c69d0de2.jpg\r\n",
      " 125895-untitled-design-30_jpg.rf.6465ad60ebf89d2ea25dded290c87583.jpg\r\n",
      " 126202-untitled-design-13_jpg.rf.56b50d413464989bb2232448a8fbb915.jpg\r\n",
      " 1288126-10255706714jpg_jpg.rf.95f7324cbfd48e0386e0660b5e932223.jpg\r\n",
      " 1288788-une-employee-aide-des-voyageurs-en-provenance-de-chine-le-26-janvier-2020-a-l-aeroport-de-roissy_jpg.rf.f896f89876de52df2fed7086bc94d1fd.jpg\r\n",
      " 1303078448-China-Coronavirus-Death-Toll-Hits-304_jpg.rf.353f9ffe10e6823c6c363687d88441ba.jpg\r\n",
      " 130624011830-malaysia-smog-students-horizontal-large-gallery_jpg.rf.52c2d92bc918a8bf50e76895031ec3a0.jpg\r\n",
      " 135e-huxwryw6451820_jpg.rf.e8f7c5a306ba8b15ab37577bae196c2f.jpg\r\n",
      " 1422808187-3291816118_jpg.rf.d9c28ba7c110caac049036d25e367b65.jpg\r\n",
      " 1477443223-1445746883_jpg.rf.d05e6a29597722ffcdb222614c353915.jpg\r\n",
      " 1482202839575_jpg.rf.e1a11347c2af5242298a581202adaee0.jpg\r\n",
      " 1483800496-3386248642_jpg.rf.1aff1d3aed5aa07389738834833e8b9b.jpg\r\n",
      " 15-08608-001_jpg.rf.f23eeb640db01b5c025ae54c9c6f3d7f.jpg\r\n",
      " 15150794626913_jpg.rf.fd41a2c638de913958a46ee288deb908.jpg\r\n",
      " 15391513321824spp815on8_jpg.rf.0fb7d846ae187777d61da0d24f67114c.jpg\r\n",
      " 15391513324714o1n0r10n6_jpg.rf.a91fbc7be8a94ed3c48d2e4b35bd53bb.jpg\r\n",
      " 1539151332674193npsrq70_jpg.rf.c1fc5c301d12d8a77bd0bfc961876397.jpg\r\n",
      " 15391513329330sooq10859_jpg.rf.89c8524c2096175fa2c728e5d73f1c28.jpg\r\n",
      " 1553605632_9d5877d8_60_jpg.rf.827ad9a39f672aba0756c9ac68d25239.jpg\r\n",
      " 1579683152-0e3ba5698b090c0fda95caa5d2aa7b31_jpg.rf.b49395264ccc2be2784ab367a8ac1307.jpg\r\n",
      " 1579924271_jpg.rf.be5b27c2b2801bccc191e6dbd9bfccca.jpg\r\n",
      " 1579928067_250120120154270000005e2bca03bf464_jpg.rf.a50ec0a4e4fcb491cce7766877b04c05.jpg\r\n",
      " 1580048340614_jpg.rf.fef748a304d19ffc7c5250005c4a397d.jpg\r\n",
      " 1580053154-5839_jpg.rf.b5682ce5d695469972b6b564e9d1f0ef.jpg\r\n",
      " 1580128422_jpg.rf.182b42586c5d5ea95a75c17449c48ad3.jpg\r\n",
      " 1580166133-5b61094cac11561b0cbe09826e32a924_jpg.rf.7bdada2e62db2019a9a2f936083467c1.jpg\r\n",
      " 1580173904-0001oc33f_jpg.rf.7f27c2bbdd00c11ba838ab7bb71694f4.jpg\r\n",
      " 1_R_kFK9pNLfKAuopY_lAaPQ_jpeg.rf.6099e0a6d528f19fa772e7aa9f1755e5.jpg\r\n",
      " -1x-1_jpg.rf.8d697c00929e06e6655c08835cc66c02.jpg\r\n",
      " -I1-MS09uaqsLdGTFkgnS0Rcg1mmPyAj95ySg_eckoM_jpeg.rf.8f09ebde8b7b3ea6f9180eff345ec176.jpg\r\n",
      "'IMG_5690 2_jpg.rf.77600927c589b6817b9ac8349615381f.jpg'\r\n",
      " PhotoGrid_1580452532909_jpg.rf.775b14bea12734249ff8fb91ba036856.jpg\r\n",
      " PHOTriZgIKIgsnNLdBJG75vj200203_1000x2000_jpg.rf.c21824c73f10288c1b316ecd78728b64.jpg\r\n",
      " phplpE73q_jpg.rf.bd81cab9f8ff2674ce2e58278f7d37fa.jpg\r\n",
      " phpM5suKS_jpg.rf.556d78a695ded9fb5f5d1848c85ed2e0.jpg\r\n",
      " phppaNXxb_jpg.rf.c406fdd46ea2438e4f111a6a35250d5a.jpg\r\n",
      " pic_list_out_2285_jpg.rf.3ff40a6045e4046772bc2c2645ccc645.jpg\r\n",
      " pjecDNMmCUQmbDoJx1fdqolnfHtpsfFK8jTA2Ng0wNg_jpeg.rf.8fe47f350be6db2c10adbc41c7f55e5b.jpg\r\n",
      " pollution-mask-CE5HYF_jpg.rf.21d8ab9eb19a6cd10956c96a0cfeff57.jpg\r\n",
      " PRI_129079114_1580299603_195_jpg.rf.4906d1ce61ad9a5c86ccfe7e4e261159.jpg\r\n",
      " purchase-reauisition-5de4d0f99c77d_jpg.rf.9757c9222d6e966e98faa8019a23ba0f.jpg\r\n",
      " r1000019q669394n9qp_jpg.rf.827235a6fff02f26ce1320d926f9c5bd.jpg\r\n",
      " r1000019q679o5611r7_jpg.rf.edff9783255fac6a6ee79a6e985c7af9.jpg\r\n",
      " r1000019q689461s9r0_jpg.rf.ae75478d4b2292f9d43a58dc102771df.jpg\r\n",
      " r1400018548960op29s_jpg.rf.d052eff94795b87ea6ad365aef959779.jpg\r\n",
      " r1p00017o80q34s9781_jpg.rf.ce1875a23da51004225ab183255da6c5.jpg\r\n",
      " r1p00017o8171pnq407_jpg.rf.6fd25b7219a249e97f54fcabf2b52726.jpg\r\n",
      " r1p00017o82psp0o0or_jpg.rf.4bd9169e3618ad676e3840939a868342.jpg\r\n",
      " r1p00017o8357s6sno6_jpg.rf.e189080820479c894db2ff1725a7cbe0.jpg\r\n",
      " rally-against-an-anti-mask-law-meant-to-deter-anti-government-protesters-in-hong-kong-china-shutterstock-editorial-10435716z_jpg.rf.67084d16d65a043ace3f2e66af294654.jpg\r\n",
      " rawImage_jpg.rf.8bdbe22463c3162f05180ff91e67f039.jpg\r\n",
      "'remote (1)_jpeg.rf.df7fe4fb8181ab460fc57d04a9991de5.jpg'\r\n",
      " REVZGCBIJNQPMIIXOKDCQA3GJI_jpg.rf.ca8353dc437234ee009df613c8b34137.jpg\r\n",
      " RTX1GIDS_jpg.rf.5b4032f806a5d6f517ee374f27bd1f63.jpg\r\n",
      " RTX7CCFN_jpg.rf.66ed5c5054f30d933d19ab3d56ace004.jpg\r\n",
      " RTX7CD4D-e1580252893876_jpg.rf.d9113083bf979d446264b568cc49661a.jpg\r\n",
      " RZXE24HFK5GSVKVSN57VCVPQ4M_jpg.rf.b60c1ee75de4ff9d4259198376ebb277.jpg\r\n",
      " S1-EV360_FACEMA_M_20200130144349_jpg.rf.a641b3a9b315b4de3b3214da280cafab.jpg\r\n",
      " sars-gettyimages-157005245_jpg.rf.5f33a6bd1f780b98e348507f3835d4d6.jpg\r\n",
      " sdfsdfsfff_jpg.rf.c4aca6cc392df43f61e14ac002741ab6.jpg\r\n",
      " sdgdsgsg_jpg.rf.f6f5f4d4bc541a470631516b804fa642.jpg\r\n",
      " sdsdsff_jpg.rf.09e108ae66cf64a3e852ba71cd079040.jpg\r\n",
      " sgssgg_jpeg.rf.f8a8d53430471346c8e823f41dd44afc.jpg\r\n",
      " shutterstock_1145933543-e1579497052960_jpg.rf.f3807b96202c59d946e24047e52e92d0.jpg\r\n",
      " shutterstock_1627199179_jpg.rf.8432d033a37b3d142ec4ffcede508c7d.jpg\r\n",
      " shutterstock_289132226_jpg.rf.2fb2653c829b5d8f4442db65341441c0.jpg\r\n",
      " shutterstock_584407723_jpg.rf.bb5ad9ec2eb1ae4510ee88524e453043.jpg\r\n",
      " shutterstock_editorial_10536831j_2e16d0ba_fill-1200x650_jpg.rf.c77c476c19e1ef443057d7ff1a1c9396.jpg\r\n",
      " skynews-coronavirus-london-fashion-week_4920359_jpg.rf.cf79aa98be9f8687d550dc35caf9edb6.jpg\r\n",
      " skypost16012020a01s_jpg.rf.f52aa2d35c2002c3003e1771ea8e650d.jpg\r\n",
      " smartmi-3pcs-filter-mask-pm25-haze-dustproof-mask-with-vent_jpg.rf.c5b0c5b7666032c5b4634740eafde234.jpg\r\n",
      " Smog-Mask-PM2-5-Carbon-Filter-Face-Masks-Fog-Dust-Air-Cleaner-anti-pollution-Face-Protector_jpg.rf.282b5e45b24750c08d6ea03ec9120177.jpg\r\n",
      "'so(19)_jpg.rf.0f2cb945829d1efef8e7fdf7757bd27e.jpg'\r\n",
      "'so(24) (1)_jpg.rf.1f4af0bfb01c55eb2ebf890b72a6f58c.jpg'\r\n",
      "'soo(1)_jpg.rf.d722163e3c3e0b9f1e4b7a73ea6893cb.jpg'\r\n",
      " soooo_jpg.rf.accf5a6d0b0fe444b354a2d293821715.jpg\r\n",
      " ST_20170401_EASAND_3046471_jpg.rf.53b81c9038b86e2964978d3d9eefea8f.jpg\r\n",
      " ST_20190917_SPTHAZE_5120715_jpg.rf.09fb2eecb2449a63f1f239f5fbb713aa.jpg\r\n",
      " stock-photo-mother-and-her-daughter-walking-go-to-school-with-wearing-a-protection-mask-against-pm-air-1346870465_jpg.rf.a6b929aae5f5f3dc8beac91039f8c85a.jpg\r\n",
      " stsciRq_png.rf.32af3f507296909b52bed7d5649e6d45.jpg\r\n",
      " Surgical-Mask-Effectiveness_jpg.rf.ecee1d8215799c8eacb670622f814af9.jpg\r\n",
      " TASS38012699_jpg.rf.2ae7b2aacba7e9e3eeb8dd3df8df8baf.jpg\r\n",
      "'TB2R28UvUOWBKNjSZKzXXXfWFXa_!!1116877752_jpg.rf.246ac310a70b6f9a13d530c71816a5af.jpg'\r\n",
      " thai_cov-transmission030220_jpg.rf.bdec1f9f73cff2be8d795fcc7665525b.jpg\r\n",
      " the-first-day-of-wuhan-s-closure-some-people-fled-some-panicked_jpg.rf.0302fefb0879eb37736a704ca5d070ff.jpg\r\n",
      " thumbnail-ba5c72edb320b49a69e86b05775c49b2-scaled-1_jpeg.rf.035d587add7bc2a6c7616d72e56bfad4.jpg\r\n",
      " UDD3JG3E4JFQ5KSFNGQQ5REINU_jpg.rf.407dec06f156a19662ff3e2cb2719dce.jpg\r\n",
      " unnamed_jpg.rf.638850185c6f05a027f34188518f6a9e.jpg\r\n",
      " Untitled-design-13_png.rf.612ee6f2911872a9bc2a7de326dea042.jpg\r\n",
      " Untitled.ipynb\r\n",
      " upload-productImg-1527496119162_320_234_jpeg.rf.d7affc7d5fe3df8bc9a7c5b9678a3c3c.jpg\r\n",
      " US-expands-coronavirus-screenings-United-suspends-some-flights-to-China_jpg.rf.1cf554343f0453f6e0a1bd2781cebea9.jpg\r\n",
      " us-state-department-warns-against-visiting-china-citing-coronavirus_jpg.rf.e3a632121d73efda9ad7c4c5d5000bad.jpg\r\n",
      " virus_jpg.rf.dc9789ac36ce03125dccaad2f106ed90.jpg\r\n",
      " virus_protection123_jpg.rf.d401b0dc63d28e5afed1324e32b5e985.jpg\r\n",
      " w1240-p16x9-0e48e0098f6e832f27d8b581b33bbc72b9967a63_jpg.rf.34ed1e8f70eebdabaf43ab9d40dc1c9b.jpg\r\n",
      " w1240-p16x9-2019-10-04t075956z_1862636027_rc15d4d49d00_rtrmadp_3_hongkong-protests_jpg.rf.061f2c7f7d17a0b472510eadb717a0b9.jpg\r\n",
      " w1240-p16x9-5f8aa310737f8e0e6c43d95a68a82b03b6f60106_jpg.rf.104bedd5b3bad4a0d0a453203e0617a3.jpg\r\n",
      " w1240-p16x9-6f1db5e0460631cfa98d2d6d8032942f81700bb0_jpg.rf.8c642180c2f1fc98109dad7ff09fe24c.jpg\r\n",
      "'w1240-p16x9-CORONAVIRUS-CHINA-HEALTH-APPLE STORE_jpg.rf.8f83c6922f9fa841301e6722c35ec9e4.jpg'\r\n",
      " w1240-p16x9-coronavirus_CHINA-HEALTH_jpg.rf.73f3f135732ac6139a592ab1139f604a.jpg\r\n",
      " w1240-p16x9-fa978043deff83fed485af12d16e39c61398fc30_jpg.rf.185d01b7e55e049c6661b8ecd49679fc.jpg\r\n",
      " W37H3GWNO5EV5HTJQNP4KLIRGI_jpg.rf.6b7420e9e1049f6ac7241cce59dcc6a8.jpg\r\n"
     ]
    }
   ],
   "source": [
    "!ls"
   ]
  },
  {
   "cell_type": "code",
   "execution_count": 14,
   "metadata": {},
   "outputs": [
    {
     "name": "stdout",
     "output_type": "stream",
     "text": [
      "Done\n"
     ]
    }
   ],
   "source": [
    "#Let's rename the images\n",
    "counter = 0\n",
    "for dirname, _, filenames in os.walk('/home/sergio/PythonProjects/Face Mask Detection/Dataset'):\n",
    "    for filename in filenames:\n",
    "        if filename.endswith('.jpg'):\n",
    "            counter += 1\n",
    "            os.rename(filename, str(counter) + \".jpg\")\n",
    "print('Done')"
   ]
  },
  {
   "cell_type": "code",
   "execution_count": 15,
   "metadata": {},
   "outputs": [
    {
     "name": "stdout",
     "output_type": "stream",
     "text": [
      "100.jpg  118.jpg  135.jpg  17.jpg  34.jpg  51.jpg  69.jpg  86.jpg\r\n",
      "101.jpg  119.jpg  136.jpg  18.jpg  35.jpg  52.jpg  6.jpg   87.jpg\r\n",
      "102.jpg  11.jpg   137.jpg  19.jpg  36.jpg  53.jpg  70.jpg  88.jpg\r\n",
      "103.jpg  120.jpg  138.jpg  1.jpg   37.jpg  54.jpg  71.jpg  89.jpg\r\n",
      "104.jpg  121.jpg  139.jpg  20.jpg  38.jpg  55.jpg  72.jpg  8.jpg\r\n",
      "105.jpg  122.jpg  13.jpg   21.jpg  39.jpg  56.jpg  73.jpg  90.jpg\r\n",
      "106.jpg  123.jpg  140.jpg  22.jpg  3.jpg   57.jpg  74.jpg  91.jpg\r\n",
      "107.jpg  124.jpg  141.jpg  23.jpg  40.jpg  58.jpg  75.jpg  92.jpg\r\n",
      "108.jpg  125.jpg  142.jpg  24.jpg  41.jpg  59.jpg  76.jpg  93.jpg\r\n",
      "109.jpg  126.jpg  143.jpg  25.jpg  42.jpg  5.jpg   77.jpg  94.jpg\r\n",
      "10.jpg\t 127.jpg  144.jpg  26.jpg  43.jpg  60.jpg  78.jpg  95.jpg\r\n",
      "110.jpg  128.jpg  145.jpg  27.jpg  44.jpg  61.jpg  79.jpg  96.jpg\r\n",
      "111.jpg  129.jpg  146.jpg  28.jpg  45.jpg  62.jpg  7.jpg   97.jpg\r\n",
      "112.jpg  12.jpg   147.jpg  29.jpg  46.jpg  63.jpg  80.jpg  98.jpg\r\n",
      "113.jpg  130.jpg  148.jpg  2.jpg   47.jpg  64.jpg  81.jpg  99.jpg\r\n",
      "114.jpg  131.jpg  149.jpg  30.jpg  48.jpg  65.jpg  82.jpg  9.jpg\r\n",
      "115.jpg  132.jpg  14.jpg   31.jpg  49.jpg  66.jpg  83.jpg  Untitled.ipynb\r\n",
      "116.jpg  133.jpg  15.jpg   32.jpg  4.jpg   67.jpg  84.jpg\r\n",
      "117.jpg  134.jpg  16.jpg   33.jpg  50.jpg  68.jpg  85.jpg\r\n"
     ]
    }
   ],
   "source": [
    "!ls"
   ]
  },
  {
   "cell_type": "code",
   "execution_count": null,
   "metadata": {},
   "outputs": [],
   "source": []
  }
 ],
 "metadata": {
  "kernelspec": {
   "display_name": "Python 3",
   "language": "python",
   "name": "python3"
  },
  "language_info": {
   "codemirror_mode": {
    "name": "ipython",
    "version": 3
   },
   "file_extension": ".py",
   "mimetype": "text/x-python",
   "name": "python",
   "nbconvert_exporter": "python",
   "pygments_lexer": "ipython3",
   "version": "3.7.6"
  }
 },
 "nbformat": 4,
 "nbformat_minor": 4
}
